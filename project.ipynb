{
 "cells": [
  {
   "cell_type": "code",
   "execution_count": 1,
   "metadata": {},
   "outputs": [],
   "source": [
    "import tkinter as tk\n",
    "\n",
    "def extend_text():\n",
    "    input_text = input_entry.get()\n",
    "    extended_text = input_text + \" (extended)\"\n",
    "    output_label.config(text=extended_text)\n",
    "\n",
    "# Create the main window\n",
    "window = tk.Tk()\n",
    "window.title(\"Text Extender\")\n",
    "\n",
    "# Create input label and entry\n",
    "input_label = tk.Label(window, text=\"Enter text:\")\n",
    "input_label.pack(pady=10)\n",
    "input_entry = tk.Entry(window)\n",
    "input_entry.pack(pady=5)\n",
    "\n",
    "# Create an \"Extend\" button\n",
    "extend_button = tk.Button(window, text=\"Extend Text\", command=extend_text)\n",
    "extend_button.pack(pady=10)\n",
    "\n",
    "# Create a label to display the extended text\n",
    "output_label = tk.Label(window, text=\"\")\n",
    "output_label.pack(pady=10)\n",
    "\n",
    "# Start the main loop\n",
    "window.mainloop()\n"
   ]
  }
 ],
 "metadata": {
  "kernelspec": {
   "display_name": "Python 3",
   "language": "python",
   "name": "python3"
  },
  "language_info": {
   "codemirror_mode": {
    "name": "ipython",
    "version": 3
   },
   "file_extension": ".py",
   "mimetype": "text/x-python",
   "name": "python",
   "nbconvert_exporter": "python",
   "pygments_lexer": "ipython3",
   "version": "3.10.12"
  }
 },
 "nbformat": 4,
 "nbformat_minor": 2
}
